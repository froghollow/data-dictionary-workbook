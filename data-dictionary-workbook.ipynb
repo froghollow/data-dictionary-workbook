{
 "cells": [
  {
   "cell_type": "markdown",
   "id": "44dca0d5",
   "metadata": {},
   "source": [
    "# Data Dictionary Workbook\n",
    "\n",
    "This notebook contains examples of using Python to transform metadata among data dictionary formats.\n"
   ]
  },
  {
   "cell_type": "markdown",
   "id": "03ab9c13",
   "metadata": {},
   "source": [
    "## AWS Glue Catalog to/from RAML Data Types\n",
    "[AWS Glue Catalog](https://docs.aws.amazon.com/glue/latest/dg/catalog-and-crawler.html) stores structural metadata that describes data assets hosted on AWS Native Services, such as S3, Redshift Spectrum, Athena, EMR, and SageMaker.  For our purposes Glue Catalog contains tablular data, although it does have features to support JSON and even XML.\n",
    "\n",
    "[RAML](https://raml.org/) is a modeling language used to describe the functionality and data content of REST APIs.  RAML is built on top of YAML, a superset of JSON that supports hierarchical structured data.  Both YAML and JSON are human-readable and -editable.   YAML especially so, using indents to indicate hierarchical levels and dashes to identify list items, it is essentialy a formal method of outlining.\n",
    "\n",
    "AWS Glue Catalog is extensible and customizable using 'Parameters' comprised of key/value pairs.  Unfortunately, AWS Console provides only rudimentary support for viewing the Glue Catalog, and even less for manually editing it.  So, since RAML has more friendly tools for for editing metadata, a function to import RAML into Glue Catalog has been included this workbook.   Basic structural data can be exported from Glue, manually enhanced, and imported back into Glue whence it is available for exports elsewhere.\n"
   ]
  },
  {
   "cell_type": "code",
   "execution_count": 1,
   "id": "be3198d8",
   "metadata": {
    "tags": []
   },
   "outputs": [
    {
     "name": "stdout",
     "output_type": "stream",
     "text": [
      "Output to file 'file://data/detailed_top_data_source.raml'\n"
     ]
    }
   ],
   "source": [
    "## export a Glue Table to a RAML Data Type file\n",
    "#  (requires AWS connectivity and authorization)\n",
    "import sys\n",
    "if './python' not in sys.path: sys.path.append('./python')\n",
    "    \n",
    "from glue_functions import export_glue_to_raml\n",
    "\n",
    "# sample Glue database and table\n",
    "glue_database_name = \"dtl-prd-tdsx\"\n",
    "glue_table_name = \"detailed_top_data_source\"\n",
    "output_path = f'file://data/{glue_table_name}.raml'\n",
    "\n",
    "raml = export_glue_to_raml( glue_database_name, glue_table_name, output_path )\n",
    "\n",
    "#print(raml)\n"
   ]
  },
  {
   "cell_type": "code",
   "execution_count": 2,
   "id": "cb6c2709",
   "metadata": {
    "tags": []
   },
   "outputs": [
    {
     "name": "stdout",
     "output_type": "stream",
     "text": [
      "Output to file 'file://data/detailed_top_data_source.glue_sd.json'\n",
      "Glue Table detailed_top_data_source updated in Database dtl-dev-raml-import\n"
     ]
    },
    {
     "data": {
      "text/plain": [
       "{'ResponseMetadata': {'RequestId': 'c38a45a4-6791-4136-8ef7-f5fe6510d881',\n",
       "  'HTTPStatusCode': 200,\n",
       "  'HTTPHeaders': {'date': 'Fri, 18 Nov 2022 13:41:21 GMT',\n",
       "   'content-type': 'application/x-amz-json-1.1',\n",
       "   'content-length': '2',\n",
       "   'connection': 'keep-alive',\n",
       "   'x-amzn-requestid': 'c38a45a4-6791-4136-8ef7-f5fe6510d881'},\n",
       "  'RetryAttempts': 0}}"
      ]
     },
     "execution_count": 2,
     "metadata": {},
     "output_type": "execute_result"
    }
   ],
   "source": [
    "## import a RAML Data Type file into Glue Catalog\n",
    "#  (requires AWS connectivity and authorization)\n",
    "import sys\n",
    "if './python' not in sys.path: sys.path.append('./python')\n",
    "\n",
    "# sample Glue database and table\n",
    "glue_database_name = \"dtl-dev-raml-import\"\n",
    "glue_table_name = \"detailed_top_data_source\"\n",
    "raml_file = f'file://data/{glue_table_name}.raml'\n",
    "glue_sd_json = f'file://data/{glue_table_name}.glue_sd.json'\n",
    "\n",
    "from glue_functions import get_file\n",
    "raml = get_file(raml_file)\n",
    "\n",
    "from glue_functions import import_raml_to_glue\n",
    "glue_sd_columns = import_raml_to_glue( glue_database_name, glue_table_name, raml, glue_sd_json )\n",
    "#print(glue_sd_columns)\n",
    "\n",
    "from glue_functions import crup_glue_table\n",
    "crup_glue_table( glue_database_name, glue_table_name, glue_sd_columns )\n"
   ]
  },
  {
   "cell_type": "markdown",
   "id": "a42187dd",
   "metadata": {},
   "source": [
    "## CSV to/from RAML\n",
    "\n",
    "MS Excel is a popular tool for manually editing tabular information, including data dictionaries.   Stored as a CSV file, 'semi-structured' data created or modified in Excel can be validated and imported to more structured formats.\n",
    "\n",
    "### FiscalData Data Dictionaries & Meta Objects\n",
    "The Department of the Treasury and the Bureau of the Fiscal Service created FiscalData to consolidate federal financial data into one easy-to-use website. \n",
    "https://fiscaldata.treasury.gov/\n",
    "\n",
    "FiscalData datasets are available for download in multiple machine-readable formats, and feature customizable data previews. Each dataset is complete with comprehensive metadata to explain when the data is updated, what each row of the data represents, and descriptions for each dataset and data table.\n",
    "\n",
    "Structural metadata is provided as \n",
    "1. Data Dictionaries downloadable as CSV files\n",
    "2. Meta objects embedded in API responses\n",
    "\n"
   ]
  },
  {
   "cell_type": "code",
   "execution_count": 3,
   "id": "6465d5fd",
   "metadata": {
    "tags": []
   },
   "outputs": [
    {
     "name": "stdout",
     "output_type": "stream",
     "text": [
      "Output to file 'data/treasury_offset_program_data_dictionary.raml'\n"
     ]
    }
   ],
   "source": [
    "## export a FiscalData CSV Data Dictionary file to a RAML Data Type\n",
    "\n",
    "import sys\n",
    "if './python' not in sys.path: sys.path.append('./python')\n",
    "\n",
    "from dd_functions import export_fddatadict_to_raml\n",
    "#help(export_fddatadict_to_raml)\n",
    "\n",
    "# example from 'Download Data Dictionary' link on https://fiscaldata.treasury.gov/datasets/treasury-offset-program/federal-collections  ...\n",
    "csv_input_path = \"data/Treasury Offset Program Data Dictionary.csv\"\n",
    "raml_output_path = csv_input_path.replace('.csv','.raml').replace(' ','_').lower()\n",
    "\n",
    "export_fddatadict_to_raml( csv_input_path, raml_output_path )\n"
   ]
  },
  {
   "cell_type": "code",
   "execution_count": 4,
   "id": "052471c6",
   "metadata": {
    "tags": []
   },
   "outputs": [
    {
     "name": "stdout",
     "output_type": "stream",
     "text": [
      "Output to file 'file://data/treasury_offset_program_data_dictionary.glue_sd.json'\n",
      "Glue Table treasury_offset_program_data_dictionary updated in Database dtl-dev-raml-import\n"
     ]
    },
    {
     "data": {
      "text/plain": [
       "{'ResponseMetadata': {'RequestId': '3da223da-a7c9-4a60-a9ef-bb0b8faf8b8c',\n",
       "  'HTTPStatusCode': 200,\n",
       "  'HTTPHeaders': {'date': 'Fri, 18 Nov 2022 13:43:57 GMT',\n",
       "   'content-type': 'application/x-amz-json-1.1',\n",
       "   'content-length': '2',\n",
       "   'connection': 'keep-alive',\n",
       "   'x-amzn-requestid': '3da223da-a7c9-4a60-a9ef-bb0b8faf8b8c'},\n",
       "  'RetryAttempts': 0}}"
      ]
     },
     "execution_count": 4,
     "metadata": {},
     "output_type": "execute_result"
    }
   ],
   "source": [
    "## import a RAML Data Type file into Glue Catalog\n",
    "#  (requires AWS connectivity and authorization)\n",
    "import sys\n",
    "if './python' not in sys.path: sys.path.append('./python')\n",
    "\n",
    "# sample Glue database and table\n",
    "glue_database_name = \"dtl-dev-raml-import\"\n",
    "glue_table_name = \"treasury_offset_program_data_dictionary\"\n",
    "raml_file = f'file://data/{glue_table_name}.raml'\n",
    "glue_sd_json = f'file://data/{glue_table_name}.glue_sd.json'\n",
    "\n",
    "from glue_functions import get_file\n",
    "raml = get_file(raml_file)\n",
    "\n",
    "from glue_functions import import_raml_to_glue\n",
    "glue_sd_columns = import_raml_to_glue( glue_database_name, glue_table_name, raml, glue_sd_json )\n",
    "#print(glue_sd_columns)\n",
    "\n",
    "from glue_functions import crup_glue_table\n",
    "crup_glue_table( glue_database_name, glue_table_name, glue_sd_columns )\n"
   ]
  },
  {
   "cell_type": "code",
   "execution_count": 6,
   "id": "83d056dd",
   "metadata": {
    "tags": []
   },
   "outputs": [
    {
     "name": "stdout",
     "output_type": "stream",
     "text": [
      "#%RAML 1.0\n",
      "\n",
      "title: Import from FiscalData Meta Object\n",
      "types:\n",
      "  record_date:\n",
      "    type: date\n",
      "    displayName: Record Date\n",
      "    format: YYYY-MM-DD\n",
      "  creditor_agency_nm:\n",
      "    type: string\n",
      "    displayName: Creditor Agency Name\n",
      "    format: String\n",
      "  creditor_agency_id:\n",
      "    type: string\n",
      "    displayName: Agency ID\n",
      "    format: String\n",
      "  agency_type:\n",
      "    type: string\n",
      "    displayName: Agency Site Type Code\n",
      "    format: String\n",
      "  agency_site:\n",
      "    type: string\n",
      "    displayName: Agency Site ID\n",
      "    format: String\n",
      "\n"
     ]
    }
   ],
   "source": [
    "# example from https://api.fiscaldata.treasury.gov/services/api/fiscal_service/v1/debt/top/top_federal?fields=record_date,creditor_agency_nm,creditor_agency_id,agency_type,agency_site\n",
    "# meta object copied from response ...\n",
    "import sys\n",
    "if './python' not in sys.path: sys.path.append('./python')\n",
    "\n",
    "from dd_functions import export_fdmeta_to_raml\n",
    "\n",
    "meta = {\n",
    "  \"count\": 100,\n",
    "  \"labels\": {\n",
    "    \"record_date\": \"Record Date\",\n",
    "    \"creditor_agency_nm\": \"Creditor Agency Name\",\n",
    "    \"creditor_agency_id\": \"Agency ID\",\n",
    "    \"agency_type\": \"Agency Site Type Code\",\n",
    "    \"agency_site\": \"Agency Site ID\"\n",
    "  },\n",
    "  \"dataTypes\": {\n",
    "    \"record_date\": \"DATE\",\n",
    "    \"creditor_agency_nm\": \"STRING\",\n",
    "    \"creditor_agency_id\": \"STRING\",\n",
    "    \"agency_type\": \"STRING\",\n",
    "    \"agency_site\": \"STRING\"\n",
    "  },\n",
    "  \"dataFormats\": {\n",
    "    \"record_date\": \"YYYY-MM-DD\",\n",
    "    \"creditor_agency_nm\": \"String\",\n",
    "    \"creditor_agency_id\": \"String\",\n",
    "    \"agency_type\": \"String\",\n",
    "    \"agency_site\": \"String\"\n",
    "  },\n",
    "  \"total-count\": 161141,\n",
    "  \"total-pages\": 1612\n",
    "}\n",
    "\n",
    "export_fdmeta_to_raml( meta )"
   ]
  }
 ],
 "metadata": {
  "kernelspec": {
   "display_name": "conda_python3",
   "language": "python",
   "name": "conda_python3"
  },
  "language_info": {
   "codemirror_mode": {
    "name": "ipython",
    "version": 3
   },
   "file_extension": ".py",
   "mimetype": "text/x-python",
   "name": "python",
   "nbconvert_exporter": "python",
   "pygments_lexer": "ipython3",
   "version": "3.8.12"
  }
 },
 "nbformat": 4,
 "nbformat_minor": 5
}
